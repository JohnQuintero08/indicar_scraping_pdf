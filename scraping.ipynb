{
 "cells": [
  {
   "cell_type": "code",
   "execution_count": 10,
   "metadata": {},
   "outputs": [],
   "source": [
    "import pandas as pd\n",
    "import pdfplumber\n",
    "import re\n",
    "import numpy as np"
   ]
  },
  {
   "cell_type": "code",
   "execution_count": 11,
   "metadata": {},
   "outputs": [],
   "source": [
    "def extract_text(script, text):\n",
    "    return re.search(script, text).group(1)"
   ]
  },
  {
   "cell_type": "code",
   "execution_count": 12,
   "metadata": {},
   "outputs": [],
   "source": [
    "def extract_header(page):\n",
    "    text = page.extract_text()\n",
    "    event = extract_text(r'Event:\\s*(.*?)\\s*Round', text)\n",
    "    round= extract_text(r'Round\\s*(.*?)\\s*Track', text)\n",
    "    track = extract_text(r'Track:\\s*(.*?)\\s*Report', text)\n",
    "    report = extract_text(r'Report:\\s*(.*?)\\s*Session', text)\n",
    "    session = extract_text(r'Session:\\s*(.*?)\\s*\\n', text)\n",
    "    car, driver = extract_text(r'Car\\s*(.*?)\\s*\\n', text).split('-')\n",
    "    return event, round, track, report, session, car, driver"
   ]
  },
  {
   "cell_type": "code",
   "execution_count": 13,
   "metadata": {},
   "outputs": [],
   "source": [
    "def extract_table(page):\n",
    "    table = np.array(page.extract_table())\n",
    "    return table"
   ]
  },
  {
   "cell_type": "code",
   "execution_count": 14,
   "metadata": {},
   "outputs": [],
   "source": [
    "def print_header(header):\n",
    "    event, round, track, report, session, car, driver = header\n",
    "    result = f\"\"\"\n",
    "    Event: {event}\n",
    "    Round: {round}\n",
    "    Track: {track}\n",
    "    Report: {report}\n",
    "    Session: {session}\n",
    "    Car: {car}\n",
    "    Driver: {driver}\n",
    "    \"\"\"\n",
    "    print(result)"
   ]
  },
  {
   "cell_type": "code",
   "execution_count": 15,
   "metadata": {},
   "outputs": [],
   "source": [
    "def full_array(size, param):\n",
    "    return np.full(size, param)"
   ]
  },
  {
   "cell_type": "code",
   "execution_count": 16,
   "metadata": {},
   "outputs": [],
   "source": [
    "def lap_correction(lap_list):\n",
    "    new_list = []\n",
    "    for i in range(len(lap_list)):\n",
    "        j = lap_list.iloc[i]  \n",
    "        if i == 0:\n",
    "            valor = j\n",
    "        elif i % 2 == 1:\n",
    "            valor = lap_list.iloc[i-1]  \n",
    "        else:\n",
    "            valor = j  \n",
    "        new_list.append(valor)\n",
    "    return new_list"
   ]
  },
  {
   "cell_type": "code",
   "execution_count": 64,
   "metadata": {},
   "outputs": [],
   "source": [
    "def table_correction(df):\n",
    "    df['Lap'] = lap_correction(df['Lap'])\n",
    "    df = df.replace('', np.nan)\n",
    "    \n",
    "    integer_columns = ['car','Lap']\n",
    "    float_columns = ['SF_to_T1', 'T1_to_SS1', 'SS1_to_T2', 'T2_to_BS', 'BS_to_T3', 'T3_to_SS2', 'SS2_to_T4', 'T4_to_FS', 'FS_to_SF', 'Lapt', 'PI_to_PO', 'PO_to_SF', 'SF_to_PI']\n",
    "    for col in integer_columns:\n",
    "        df[col] = df[col].astype(int)\n",
    "    for col in float_columns:\n",
    "        df[col] = df[col].astype(float)\n",
    "    \n",
    "    return df"
   ]
  },
  {
   "cell_type": "code",
   "execution_count": 65,
   "metadata": {},
   "outputs": [],
   "source": [
    "def create_df_page(page):\n",
    "    header = extract_header(page)\n",
    "    table = extract_table(page) \n",
    "    headers_table = ['Lap', 'T/S', 'SF_to_T1', 'T1_to_SS1', 'SS1_to_T2', 'T2_to_BS', 'BS_to_T3', 'T3_to_SS2', 'SS2_to_T4', 'T4_to_FS', 'FS_to_SF', 'Lapt', 'PI_to_PO', 'PO_to_SF', 'SF_to_PI']\n",
    "    shape_table = np.shape(table)[0]\n",
    "    event, round, track, report, session, car, driver = header\n",
    "    \n",
    "    event_arr = full_array(shape_table, event)\n",
    "    round_arr = full_array(shape_table, round)\n",
    "    track_arr = full_array(shape_table, track)\n",
    "    report_arr = full_array(shape_table, report)\n",
    "    session_arr = full_array(shape_table, session)\n",
    "    car_arr = full_array(shape_table, car)\n",
    "    driver_arr = full_array(shape_table, driver)\n",
    "    \n",
    "    data = {'event': event_arr,\n",
    "            'round': round_arr,\n",
    "            'track': track_arr,\n",
    "            'report': report_arr,\n",
    "            'session': session_arr,\n",
    "            'car': car_arr,\n",
    "            'driver': driver_arr}\n",
    "    \n",
    "    df_header = pd.DataFrame(data)\n",
    "    df_table = pd.DataFrame(table, columns=headers_table)\n",
    "    df_page = pd.concat([df_header, df_table], axis=1)\n",
    "#     df_page['Lap'] = lap_correction(df_page['Lap'])\n",
    "    df_page_corrected = table_correction(df_page)\n",
    "    \n",
    "    return df_page_corrected"
   ]
  },
  {
   "cell_type": "code",
   "execution_count": 66,
   "metadata": {},
   "outputs": [],
   "source": [
    "pdf =  pdfplumber.open('doc_1.pdf')"
   ]
  },
  {
   "cell_type": "code",
   "execution_count": 67,
   "metadata": {},
   "outputs": [],
   "source": [
    "df = create_df_page(pdf.pages[0])"
   ]
  }
 ],
 "metadata": {
  "kernelspec": {
   "display_name": "Python 3",
   "language": "python",
   "name": "python3"
  },
  "language_info": {
   "codemirror_mode": {
    "name": "ipython",
    "version": 3
   },
   "file_extension": ".py",
   "mimetype": "text/x-python",
   "name": "python",
   "nbconvert_exporter": "python",
   "pygments_lexer": "ipython3",
   "version": "3.12.5"
  }
 },
 "nbformat": 4,
 "nbformat_minor": 2
}
